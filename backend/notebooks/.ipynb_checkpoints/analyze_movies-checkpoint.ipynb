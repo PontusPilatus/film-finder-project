{
 "cells": [
  {
   "cell_type": "code",
   "execution_count": 2,
   "id": "1026532e-a194-402e-b709-ddb91991106c",
   "metadata": {},
   "outputs": [],
   "source": [
    "import pandas as pd\n",
    "import re"
   ]
  },
  {
   "cell_type": "code",
   "execution_count": 8,
   "id": "ad18bcc4-39c2-4084-aa83-3c2e51849027",
   "metadata": {},
   "outputs": [
    {
     "name": "stdout",
     "output_type": "stream",
     "text": [
      "Original dataset shape: (9742, 3)\n"
     ]
    }
   ],
   "source": [
    "# Load the movies dataset\n",
    "movies = pd.read_csv('../backend/data/raw/movies.csv')\n",
    "\n",
    "print(f\"Original dataset shape: {movies.shape}\")"
   ]
  },
  {
   "cell_type": "code",
   "execution_count": 10,
   "id": "d08cf748-a9a3-4898-8273-af42fcb6f674",
   "metadata": {},
   "outputs": [
    {
     "name": "stdout",
     "output_type": "stream",
     "text": [
      "\n",
      "Missing values:\n",
      "movieId    0\n",
      "title      0\n",
      "genres     0\n",
      "dtype: int64\n"
     ]
    }
   ],
   "source": [
    "# Check for missing values\n",
    "print(\"\\nMissing values:\")\n",
    "print(movies.isnull().sum())"
   ]
  },
  {
   "cell_type": "code",
   "execution_count": 12,
   "id": "9e827fe7-16d6-4b4f-bddf-4c44579d57e8",
   "metadata": {},
   "outputs": [
    {
     "name": "stdout",
     "output_type": "stream",
     "text": [
      "\n",
      "Movies with no genres: 34\n"
     ]
    }
   ],
   "source": [
    "# Check for movies with no genres\n",
    "no_genre = movies[movies['genres'] == '(no genres listed)']\n",
    "print(f\"\\nMovies with no genres: {len(no_genre)}\")"
   ]
  },
  {
   "cell_type": "code",
   "execution_count": 14,
   "id": "b77ab8ec-a0a6-404c-b257-b3f1250b6523",
   "metadata": {},
   "outputs": [
    {
     "name": "stdout",
     "output_type": "stream",
     "text": [
      "\n",
      "Duplicate entries: 10\n"
     ]
    }
   ],
   "source": [
    "# Check for duplicate movieId or title\n",
    "duplicates = movies[movies.duplicated(subset=['movieId'], keep=False) | movies.duplicated(subset=['title'], keep=False)]\n",
    "print(f\"\\nDuplicate entries: {len(duplicates)}\")"
   ]
  },
  {
   "cell_type": "code",
   "execution_count": 18,
   "id": "0711403a-df1e-485d-9f4c-7f4a77fffdb4",
   "metadata": {},
   "outputs": [
    {
     "name": "stdout",
     "output_type": "stream",
     "text": [
      "\n",
      "Movies with unusual years: 0\n"
     ]
    }
   ],
   "source": [
    "# Extract year from title and check for unusual years\n",
    "def extract_year(title):\n",
    "    match = re.search(r'\\((\\d{4})\\)$', title)\n",
    "    return int(match.group(1)) if match else None\n",
    "\n",
    "movies['year'] = movies['title'].apply(extract_year)\n",
    "unusual_years = movies[(movies['year'] < 1900) | (movies['year'] > 2023)]\n",
    "print(f\"\\nMovies with unusual years: {len(unusual_years)}\")"
   ]
  },
  {
   "cell_type": "code",
   "execution_count": 20,
   "id": "dc7fb50a-ddd2-419e-ba32-975d5a0f1f76",
   "metadata": {},
   "outputs": [
    {
     "name": "stdout",
     "output_type": "stream",
     "text": [
      "\n",
      "Genre count statistics:\n",
      "count    9742.000000\n",
      "mean        2.266886\n",
      "std         1.123249\n",
      "min         1.000000\n",
      "25%         1.000000\n",
      "50%         2.000000\n",
      "75%         3.000000\n",
      "max        10.000000\n",
      "Name: genre_count, dtype: float64\n"
     ]
    }
   ],
   "source": [
    "# Check number of genres per movie\n",
    "movies['genre_count'] = movies['genres'].str.count('\\|') + 1\n",
    "genre_stats = movies['genre_count'].describe()\n",
    "print(\"\\nGenre count statistics:\")\n",
    "print(genre_stats)"
   ]
  },
  {
   "cell_type": "code",
   "execution_count": 22,
   "id": "cba3d19b-2f21-48a5-b9b0-576550caed07",
   "metadata": {},
   "outputs": [
    {
     "name": "stdout",
     "output_type": "stream",
     "text": [
      "\n",
      "Suggested filtering criteria:\n",
      "1. Remove movies with no genres\n",
      "2. Remove duplicate entries\n",
      "3. Remove movies with years before 1900 or after 2023\n",
      "4. Consider removing movies with too many genres (e.g., more than 5)\n"
     ]
    }
   ],
   "source": [
    "# Suggest filtering criteria\n",
    "print(\"\\nSuggested filtering criteria:\")\n",
    "print(\"1. Remove movies with no genres\")\n",
    "print(\"2. Remove duplicate entries\")\n",
    "print(\"3. Remove movies with years before 1900 or after 2023\")\n",
    "print(\"4. Consider removing movies with too many genres (e.g., more than 5)\")"
   ]
  },
  {
   "cell_type": "code",
   "execution_count": 26,
   "id": "7d9b827e-8da0-445d-ad0d-f256efad9834",
   "metadata": {},
   "outputs": [
    {
     "name": "stdout",
     "output_type": "stream",
     "text": [
      "\n",
      "Filtered dataset shape: (9611, 5)\n",
      "Removed 131 entries\n"
     ]
    }
   ],
   "source": [
    "# Apply suggested filters\n",
    "filtered_movies = movies[\n",
    "    (movies['genres'] != '(no genres listed)') &\n",
    "    (~movies.duplicated(subset=['movieId'], keep='first')) &\n",
    "    (~movies.duplicated(subset=['title'], keep='first')) &\n",
    "    (movies['year'].between(1900, 2023)) &\n",
    "    (movies['genre_count'] <= 5)\n",
    "]\n",
    "\n",
    "print(f\"\\nFiltered dataset shape: {filtered_movies.shape}\")\n",
    "print(f\"Removed {len(movies) - len(filtered_movies)} entries\")"
   ]
  },
  {
   "cell_type": "code",
   "execution_count": 28,
   "id": "716cacaa-2920-4684-aad2-530b4c544f9a",
   "metadata": {},
   "outputs": [
    {
     "name": "stdout",
     "output_type": "stream",
     "text": [
      "\n",
      "Filtered dataset saved to '../backend/data/processed/filtered_movies.csv'\n"
     ]
    }
   ],
   "source": [
    "# Save filtered dataset\n",
    "filtered_movies.to_csv('../backend/data/processed/filtered_movies.csv', index=False)\n",
    "print(\"\\nFiltered dataset saved to '../backend/data/processed/filtered_movies.csv'\")"
   ]
  },
  {
   "cell_type": "code",
   "execution_count": null,
   "id": "adde5469-a155-43bb-ba7f-6f023311d27f",
   "metadata": {},
   "outputs": [],
   "source": []
  }
 ],
 "metadata": {
  "kernelspec": {
   "display_name": "Python 3 (ipykernel)",
   "language": "python",
   "name": "python3"
  },
  "language_info": {
   "codemirror_mode": {
    "name": "ipython",
    "version": 3
   },
   "file_extension": ".py",
   "mimetype": "text/x-python",
   "name": "python",
   "nbconvert_exporter": "python",
   "pygments_lexer": "ipython3",
   "version": "3.11.7"
  }
 },
 "nbformat": 4,
 "nbformat_minor": 5
}
