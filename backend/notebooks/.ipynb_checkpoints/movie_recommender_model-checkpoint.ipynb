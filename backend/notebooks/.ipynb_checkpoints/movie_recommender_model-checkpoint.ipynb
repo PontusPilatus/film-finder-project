{
 "cells": [
  {
   "cell_type": "code",
   "execution_count": 2,
   "metadata": {},
   "outputs": [],
   "source": [
    "import pandas as pd\n",
    "import numpy as np\n",
    "from sklearn.metrics.pairwise import cosine_similarity\n",
    "from sklearn.preprocessing import MinMaxScaler\n",
    "from sklearn.model_selection import train_test_split\n",
    "from sklearn.metrics import mean_squared_error\n",
    "from datetime import datetime"
   ]
  },
  {
   "cell_type": "code",
   "execution_count": 3,
   "metadata": {},
   "outputs": [],
   "source": [
    "# Cell 2: Load data\n",
    "movies = pd.read_csv('../backend/data/processed/filtered_movies.csv')\n",
    "ratings = pd.read_csv('../backend/data/processed/filtered_ratings.csv')"
   ]
  },
  {
   "cell_type": "code",
   "execution_count": 4,
   "metadata": {},
   "outputs": [
    {
     "name": "stderr",
     "output_type": "stream",
     "text": [
      "C:\\Users\\pauls\\AppData\\Local\\Temp\\ipykernel_31620\\2759827454.py:7: SettingWithCopyWarning: \n",
      "A value is trying to be set on a copy of a slice from a DataFrame.\n",
      "Try using .loc[row_indexer,col_indexer] = value instead\n",
      "\n",
      "See the caveats in the documentation: https://pandas.pydata.org/pandas-docs/stable/user_guide/indexing.html#returning-a-view-versus-a-copy\n",
      "  movies_filtered['year'] = movies_filtered['title'].str.extract('(\\d{4})').astype(float)\n"
     ]
    }
   ],
   "source": [
    "# Cell 3: Create features\n",
    "def create_features(movies, ratings):\n",
    "    # Filtrera movies för att endast inkludera filmer med betyg\n",
    "    rated_movie_ids = set(ratings['movieId'].unique())\n",
    "    movies_filtered = movies[movies['movieId'].isin(rated_movie_ids)]\n",
    "\n",
    "    movies_filtered['year'] = movies_filtered['title'].str.extract('(\\d{4})').astype(float)\n",
    "    \n",
    "    movie_stats = ratings.groupby('movieId').agg({'rating': ['count', 'mean']})\n",
    "    movie_stats.columns = ['rating_count', 'rating_mean']\n",
    "    \n",
    "    genre_dummies = movies_filtered['genres'].str.get_dummies(sep='|')\n",
    "    \n",
    "    features = pd.concat([movies_filtered[['movieId', 'year']], movie_stats, genre_dummies], axis=1)\n",
    "    \n",
    "    current_year = datetime.now().year\n",
    "    features['movie_age'] = current_year - features['year']\n",
    "    \n",
    "    return features\n",
    "\n",
    "# Använd funktionen för att skapa features\n",
    "movie_features = create_features(movies, ratings)\n",
    "\n",
    "# Denna funktion skapar features för varje film, inklusive år, betygsstatistik,\n",
    "# genre-information och filmens ålder. Dessa features används senare i rekommendationssystemet."
   ]
  },
  {
   "cell_type": "code",
   "execution_count": 5,
   "metadata": {},
   "outputs": [],
   "source": [
    "# Cell 4: Preprocess data\n",
    "scaler = MinMaxScaler()\n",
    "numeric_features = ['year', 'rating_count', 'rating_mean', 'movie_age']\n",
    "movie_features[numeric_features] = scaler.fit_transform(movie_features[numeric_features])\n",
    "\n",
    "movie_features_indexed = movie_features.set_index('movieId').fillna(0)\n"
   ]
  },
  {
   "cell_type": "code",
   "execution_count": 6,
   "metadata": {},
   "outputs": [],
   "source": [
    "# Cell 5: Implement item-based collaborative filtering\n",
    "def item_similarity(movie_features):\n",
    "    return cosine_similarity(movie_features)\n",
    "\n",
    "item_sim = item_similarity(movie_features_indexed.drop(['year'], axis=1))\n"
   ]
  },
  {
   "cell_type": "code",
   "execution_count": 7,
   "metadata": {},
   "outputs": [],
   "source": [
    "# Cell 6: Implement content-based filtering\n",
    "def content_similarity(movie_features):\n",
    "    return cosine_similarity(movie_features)\n",
    "\n",
    "content_sim = content_similarity(movie_features_indexed.drop(['rating_count', 'rating_mean'], axis=1))\n"
   ]
  },
  {
   "cell_type": "code",
   "execution_count": 8,
   "metadata": {},
   "outputs": [
    {
     "name": "stdout",
     "output_type": "stream",
     "text": [
      "user_item_matrix shape: (610, 2269)\n"
     ]
    }
   ],
   "source": [
    "# Cell 7: Create user-item matrix\n",
    "user_item_matrix = ratings.pivot(index='userId', columns='movieId', values='rating').fillna(0)\n",
    "print(\"user_item_matrix shape:\", user_item_matrix.shape)"
   ]
  },
  {
   "cell_type": "code",
   "execution_count": 9,
   "metadata": {},
   "outputs": [
    {
     "name": "stdout",
     "output_type": "stream",
     "text": [
      "hybrid_sim shape after alignment: (2235, 2235)\n",
      "user_item_matrix shape after alignment: (610, 2235)\n",
      "\n",
      "user_item_matrix index type: int64\n",
      "hybrid_sim index type: int64\n"
     ]
    }
   ],
   "source": [
    "# Cell 8: Implement hybrid similarity\n",
    "def hybrid_similarity(item_sim, content_sim, alpha=0.5):\n",
    "    hybrid = alpha * item_sim + (1 - alpha) * content_sim\n",
    "    return pd.DataFrame(hybrid, index=movie_features_indexed.index.astype('int64'), columns=movie_features_indexed.index.astype('int64'))\n",
    "\n",
    "movie_features_indexed = movie_features_indexed.loc[np.isfinite(movie_features_indexed.index)]\n",
    "movie_features_indexed.index = movie_features_indexed.index.astype('int64')\n",
    "\n",
    "item_sim = item_similarity(movie_features_indexed.drop(['year'], axis=1))\n",
    "content_sim = content_similarity(movie_features_indexed.drop(['rating_count', 'rating_mean'], axis=1))\n",
    "\n",
    "hybrid_sim = hybrid_similarity(item_sim, content_sim)\n",
    "\n",
    "common_movies = list(set(user_item_matrix.columns) & set(hybrid_sim.index))\n",
    "hybrid_sim = hybrid_sim.loc[common_movies, common_movies]\n",
    "user_item_matrix = user_item_matrix[common_movies]\n",
    "\n",
    "print(\"hybrid_sim shape after alignment:\", hybrid_sim.shape)\n",
    "print(\"user_item_matrix shape after alignment:\", user_item_matrix.shape)\n",
    "\n",
    "print(\"\\nuser_item_matrix index type:\", user_item_matrix.columns.dtype)\n",
    "print(\"hybrid_sim index type:\", hybrid_sim.index.dtype)"
   ]
  },
  {
   "cell_type": "code",
   "execution_count": 10,
   "metadata": {},
   "outputs": [],
   "source": [
    "def predict_rating(user_id, movie_id, user_item_matrix, hybrid_sim):\n",
    "    if movie_id not in user_item_matrix.columns:\n",
    "        return None\n",
    "    \n",
    "    user_ratings = user_item_matrix.loc[user_id]\n",
    "    sim_scores = hybrid_sim.loc[movie_id]\n",
    "    \n",
    "    relevant_sims = sim_scores[sim_scores > 0]\n",
    "    relevant_ratings = user_ratings[user_ratings > 0]\n",
    "    \n",
    "    common_movies = list(set(relevant_sims.index) & set(relevant_ratings.index))\n",
    "    \n",
    "    if len(common_movies) == 0:\n",
    "        return None\n",
    "    \n",
    "    weighted_sum = np.sum(relevant_ratings.loc[common_movies] * relevant_sims.loc[common_movies])\n",
    "    sim_sum = np.sum(relevant_sims.loc[common_movies])\n",
    "    \n",
    "    if sim_sum == 0:\n",
    "        return None\n",
    "    \n",
    "    predicted_rating = weighted_sum / sim_sum\n",
    "    \n",
    "    user_mean = np.mean(relevant_ratings)\n",
    "    user_std = np.std(relevant_ratings)\n",
    "    \n",
    "    adjusted_prediction = user_mean + (predicted_rating - user_mean) * 1.5\n",
    "    \n",
    "    random_factor = np.random.normal(0, user_std * 0.2)\n",
    "    final_prediction = adjusted_prediction + random_factor\n",
    "    \n",
    "    final_prediction = max(0.5, min(5, final_prediction))\n",
    "    \n",
    "    return final_prediction"
   ]
  },
  {
   "cell_type": "code",
   "execution_count": 11,
   "metadata": {},
   "outputs": [
    {
     "name": "stdout",
     "output_type": "stream",
     "text": [
      "Item-based similarity matrix stats:\n",
      "Mean: 0.3591, Min: 0.0000, Max: 1.0000\n",
      "\n",
      "Content-based similarity matrix stats:\n",
      "Mean: 0.3941, Min: 0.0000, Max: 1.0000\n",
      "\n",
      "Hybrid similarity matrix stats:\n",
      "Mean: 0.3766, Min: 0.0000, Max: 1.0000\n"
     ]
    }
   ],
   "source": [
    "# Kontrollera item_sim och content_sim\n",
    "print(\"Item-based similarity matrix stats:\")\n",
    "print(f\"Mean: {np.mean(item_sim):.4f}, Min: {np.min(item_sim):.4f}, Max: {np.max(item_sim):.4f}\")\n",
    "\n",
    "print(\"\\nContent-based similarity matrix stats:\")\n",
    "print(f\"Mean: {np.mean(content_sim):.4f}, Min: {np.min(content_sim):.4f}, Max: {np.max(content_sim):.4f}\")\n",
    "\n",
    "# Kontrollera hybrid_sim\n",
    "print(\"\\nHybrid similarity matrix stats:\")\n",
    "print(f\"Mean: {np.mean(hybrid_sim.values):.4f}, Min: {np.min(hybrid_sim.values):.4f}, Max: {np.max(hybrid_sim.values):.4f}\")"
   ]
  },
  {
   "cell_type": "code",
   "execution_count": 12,
   "metadata": {},
   "outputs": [],
   "source": [
    "def get_top_recommendations(user_id, user_item_matrix, sim_matrix, n=10):\n",
    "    user_ratings = user_item_matrix.loc[user_id]\n",
    "    unrated_movies = user_ratings[user_ratings == 0].index\n",
    "    \n",
    "    recommendations = []\n",
    "    for movie_id in unrated_movies:\n",
    "        if movie_id in sim_matrix.index:\n",
    "            predicted_rating = predict_rating(user_id, movie_id, user_item_matrix, sim_matrix)\n",
    "            if predicted_rating is not None:\n",
    "                recommendations.append((movie_id, predicted_rating))\n",
    "    \n",
    "    recommendations.sort(key=lambda x: x[1], reverse=True)\n",
    "    return recommendations[:n]"
   ]
  },
  {
   "cell_type": "code",
   "execution_count": 13,
   "metadata": {},
   "outputs": [
    {
     "name": "stdout",
     "output_type": "stream",
     "text": [
      "Top 10 movie recommendations for user 1:\n",
      "20,000 Leagues Under the Sea (1954) (Predicted Rating: 5.00)\n",
      "Coco (2017) (Predicted Rating: 4.97)\n",
      "Hero (Ying xiong) (2002) (Predicted Rating: 4.96)\n",
      "Simple Plan, A (1998) (Predicted Rating: 4.92)\n",
      "When a Man Loves a Woman (1994) (Predicted Rating: 4.90)\n",
      "Aristocats, The (1970) (Predicted Rating: 4.88)\n",
      "Before Sunset (2004) (Predicted Rating: 4.88)\n",
      "Whiplash (2014) (Predicted Rating: 4.87)\n",
      "Forgetting Sarah Marshall (2008) (Predicted Rating: 4.84)\n",
      "Star Trek Beyond (2016) (Predicted Rating: 4.84)\n"
     ]
    }
   ],
   "source": [
    "# Cell 11: Test the recommendation system\n",
    "test_user = user_item_matrix.index[0]\n",
    "recommendations = get_top_recommendations(test_user, user_item_matrix, hybrid_sim)\n",
    "\n",
    "print(f\"Top 10 movie recommendations for user {test_user}:\")\n",
    "for movie_id, predicted_rating in recommendations:\n",
    "    movie_title = movies.loc[movies['movieId'] == movie_id, 'title'].values[0]\n",
    "    print(f\"{movie_title} (Predicted Rating: {predicted_rating:.2f})\")"
   ]
  },
  {
   "cell_type": "code",
   "execution_count": 14,
   "metadata": {},
   "outputs": [
    {
     "name": "stdout",
     "output_type": "stream",
     "text": [
      "Shapes:\n",
      "movie_features_indexed: (2235, 23)\n",
      "user_item_matrix: (610, 2235)\n",
      "hybrid_sim: (2235, 2235)\n",
      "\n",
      "Index types:\n",
      "movie_features_indexed: int64\n",
      "user_item_matrix columns: int64\n",
      "hybrid_sim: int64\n",
      "\n",
      "Common movies:\n",
      "Between user_item_matrix and hybrid_sim: 2235\n",
      "\n",
      "Sample recommendations:\n",
      "Clockers (1995) (Predicted Rating: 4.90)\n",
      "Star Trek: Generations (1994) (Predicted Rating: 4.89)\n",
      "Kiki's Delivery Service (Majo no takkyûbin) (1989) (Predicted Rating: 4.88)\n",
      "Cinderella (1950) (Predicted Rating: 4.88)\n",
      "Bronx Tale, A (1993) (Predicted Rating: 4.87)\n"
     ]
    }
   ],
   "source": [
    "# Cell 12: Final diagnostics\n",
    "print(\"Shapes:\")\n",
    "print(\"movie_features_indexed:\", movie_features_indexed.shape)\n",
    "print(\"user_item_matrix:\", user_item_matrix.shape)\n",
    "print(\"hybrid_sim:\", hybrid_sim.shape)\n",
    "\n",
    "print(\"\\nIndex types:\")\n",
    "print(\"movie_features_indexed:\", movie_features_indexed.index.dtype)\n",
    "print(\"user_item_matrix columns:\", user_item_matrix.columns.dtype)\n",
    "print(\"hybrid_sim:\", hybrid_sim.index.dtype)\n",
    "\n",
    "print(\"\\nCommon movies:\")\n",
    "print(\"Between user_item_matrix and hybrid_sim:\", \n",
    "      len(set(user_item_matrix.columns) & set(hybrid_sim.index)))\n",
    "\n",
    "print(\"\\nSample recommendations:\")\n",
    "test_user = user_item_matrix.index[0]\n",
    "recommendations = get_top_recommendations(test_user, user_item_matrix, hybrid_sim, n=5)\n",
    "for movie_id, predicted_rating in recommendations:\n",
    "    movie_title = movies.loc[movies['movieId'] == movie_id, 'title'].values[0]\n",
    "    print(f\"{movie_title} (Predicted Rating: {predicted_rating:.2f})\")"
   ]
  },
  {
   "cell_type": "code",
   "execution_count": 15,
   "metadata": {},
   "outputs": [
    {
     "name": "stdout",
     "output_type": "stream",
     "text": [
      "movie_features_indexed shape: (2235, 23)\n",
      "hybrid_sim shape: (2235, 2235)\n",
      "user_item_matrix shape: (610, 2235)\n",
      "Number of unique movieIds in ratings: 2269\n",
      "Number of unique movieIds in movies: 9611\n"
     ]
    }
   ],
   "source": [
    "# Cell 12: Verify shapes and number of unique movies\n",
    "print(\"movie_features_indexed shape:\", movie_features_indexed.shape)\n",
    "print(\"hybrid_sim shape:\", hybrid_sim.shape)\n",
    "print(\"user_item_matrix shape:\", user_item_matrix.shape)\n",
    "print(\"Number of unique movieIds in ratings:\", ratings['movieId'].nunique())\n",
    "print(\"Number of unique movieIds in movies:\", movies['movieId'].nunique())\n"
   ]
  },
  {
   "cell_type": "code",
   "execution_count": 16,
   "metadata": {},
   "outputs": [
    {
     "name": "stdout",
     "output_type": "stream",
     "text": [
      "\n",
      "Antal filmer i ratings som inte finns i movies: 34\n",
      "Exempel på saknade film-IDs: [108932, 60684, 69644, 83349, 91542]\n",
      "Antal unika filmer i ratings: 2269\n",
      "Antal unika filmer i movies: 9611\n"
     ]
    }
   ],
   "source": [
    "# Cell 13: Check for missing movies\n",
    "ratings_movies = set(ratings['movieId'].unique())\n",
    "movies_movies = set(movies['movieId'].unique())\n",
    "missing_movies = ratings_movies - movies_movies\n",
    "if missing_movies:\n",
    "    print(f\"\\nAntal filmer i ratings som inte finns i movies: {len(missing_movies)}\")\n",
    "    print(\"Exempel på saknade film-IDs:\", list(missing_movies)[:5])\n",
    "else:\n",
    "    print(\"\\nAlla filmer i ratings finns i movies datasetet.\")\n",
    "\n",
    "print(f\"Antal unika filmer i ratings: {len(ratings_movies)}\")\n",
    "print(f\"Antal unika filmer i movies: {len(movies_movies)}\")\n"
   ]
  },
  {
   "cell_type": "code",
   "execution_count": 17,
   "metadata": {},
   "outputs": [
    {
     "name": "stdout",
     "output_type": "stream",
     "text": [
      "\n",
      "Filmer utan betyg:\n",
      "      movieId                                              title   \n",
      "3           4                           Waiting to Exhale (1995)  \\\n",
      "7           8                                Tom and Huck (1995)   \n",
      "12         13                                       Balto (1995)   \n",
      "26         27                                Now and Then (1995)   \n",
      "29         30  Shanghai Triad (Yao a yao yao dao waipo qiao) ...   \n",
      "...       ...                                                ...   \n",
      "9606   193581          Black Butler: Book of the Atlantic (2017)   \n",
      "9607   193583                       No Game No Life: Zero (2017)   \n",
      "9608   193585                                       Flint (2017)   \n",
      "9609   193587                Bungo Stray Dogs: Dead Apple (2018)   \n",
      "9610   193609                Andrew Dice Clay: Dice Rules (1991)   \n",
      "\n",
      "                               genres  \n",
      "3                Comedy|Drama|Romance  \n",
      "7                  Adventure|Children  \n",
      "12       Adventure|Animation|Children  \n",
      "26                     Children|Drama  \n",
      "29                        Crime|Drama  \n",
      "...                               ...  \n",
      "9606  Action|Animation|Comedy|Fantasy  \n",
      "9607         Animation|Comedy|Fantasy  \n",
      "9608                            Drama  \n",
      "9609                 Action|Animation  \n",
      "9610                           Comedy  \n",
      "\n",
      "[7376 rows x 3 columns]\n",
      "\n",
      "Antal filmer utan betyg: 7376\n"
     ]
    }
   ],
   "source": [
    "# Cell 14: Identify movies without ratings\n",
    "movies_without_ratings = set(movies['movieId']) - set(ratings['movieId'])\n",
    "movies_without_ratings_df = movies[movies['movieId'].isin(movies_without_ratings)]\n",
    "\n",
    "print(\"\\nFilmer utan betyg:\")\n",
    "print(movies_without_ratings_df[['movieId', 'title', 'genres']])\n",
    "print(f\"\\nAntal filmer utan betyg: {len(movies_without_ratings)}\")\n"
   ]
  },
  {
   "cell_type": "code",
   "execution_count": 18,
   "metadata": {},
   "outputs": [
    {
     "name": "stdout",
     "output_type": "stream",
     "text": [
      "Recommendations for new user:\n",
      "Forrest Gump (1994) (Average Rating: 4.16)\n",
      "Shawshank Redemption, The (1994) (Average Rating: 4.43)\n",
      "Pulp Fiction (1994) (Average Rating: 4.20)\n",
      "Silence of the Lambs, The (1991) (Average Rating: 4.16)\n",
      "Matrix, The (1999) (Average Rating: 4.19)\n",
      "Star Wars: Episode IV - A New Hope (1977) (Average Rating: 4.23)\n",
      "Jurassic Park (1993) (Average Rating: 3.75)\n",
      "Braveheart (1995) (Average Rating: 4.03)\n",
      "Terminator 2: Judgment Day (1991) (Average Rating: 3.97)\n",
      "Schindler's List (1993) (Average Rating: 4.22)\n"
     ]
    }
   ],
   "source": [
    "# Cell 15: \"Implement strategy for new users\n",
    "def handle_new_user(movies_df, ratings_df, n=10):\n",
    "    popular_movies = ratings_df.groupby('movieId').agg({'rating': ['count', 'mean']})\n",
    "    popular_movies.columns = ['rating_count', 'rating_mean']\n",
    "    popular_movies = popular_movies.sort_values('rating_count', ascending=False)\n",
    "    \n",
    "    top_movies = popular_movies.head(n).index\n",
    "    recommendations = []\n",
    "    for movie_id in top_movies:\n",
    "        title = movies_df[movies_df['movieId'] == movie_id]['title'].values[0]\n",
    "        recommendations.append((movie_id, title, popular_movies.loc[movie_id, 'rating_mean']))\n",
    "    \n",
    "    return recommendations\n",
    "\n",
    "# Testa funktionen för nya användare\n",
    "new_user_recommendations = handle_new_user(movies, ratings)\n",
    "print(\"Recommendations for new user:\")\n",
    "for movie_id, title, avg_rating in new_user_recommendations:\n",
    "    print(f\"{title} (Average Rating: {avg_rating:.2f})\")"
   ]
  },
  {
   "cell_type": "code",
   "execution_count": null,
   "metadata": {},
   "outputs": [],
   "source": []
  }
 ],
 "metadata": {
  "kernelspec": {
   "display_name": "Python 3 (ipykernel)",
   "language": "python",
   "name": "python3"
  },
  "language_info": {
   "codemirror_mode": {
    "name": "ipython",
    "version": 3
   },
   "file_extension": ".py",
   "mimetype": "text/x-python",
   "name": "python",
   "nbconvert_exporter": "python",
   "pygments_lexer": "ipython3",
   "version": "3.11.7"
  }
 },
 "nbformat": 4,
 "nbformat_minor": 4
}
