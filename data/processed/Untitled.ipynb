{
 "cells": [
  {
   "cell_type": "code",
   "execution_count": 6,
   "id": "f4d015f6-0cf1-4272-abac-379d1b2c29e4",
   "metadata": {},
   "outputs": [
    {
     "name": "stdout",
     "output_type": "stream",
     "text": [
      "Created CSV with 90267 ratings\n"
     ]
    }
   ],
   "source": [
    "import pandas as pd\n",
    "\n",
    "# Read the CSV\n",
    "df = pd.read_csv('filtered_ratings.csv')\n",
    "\n",
    "# Create a copy with just the columns we need\n",
    "df_clean = df[['user_id', 'movie_id', 'rating']].copy()\n",
    "\n",
    "# Round ratings to integers\n",
    "df_clean['rating'] = df_clean['rating'].round().astype(int)\n",
    "\n",
    "# Export to CSV\n",
    "df_clean.to_csv('supabase_ratings_clean.csv', index=False)\n",
    "\n",
    "print(f\"Created CSV with {len(df_clean)} ratings\")"
   ]
  },
  {
   "cell_type": "code",
   "execution_count": null,
   "id": "183dcee9-b989-4e25-89bc-ee7407a5aba0",
   "metadata": {},
   "outputs": [],
   "source": []
  }
 ],
 "metadata": {
  "kernelspec": {
   "display_name": "Python 3 (ipykernel)",
   "language": "python",
   "name": "python3"
  },
  "language_info": {
   "codemirror_mode": {
    "name": "ipython",
    "version": 3
   },
   "file_extension": ".py",
   "mimetype": "text/x-python",
   "name": "python",
   "nbconvert_exporter": "python",
   "pygments_lexer": "ipython3",
   "version": "3.11.7"
  }
 },
 "nbformat": 4,
 "nbformat_minor": 5
}
